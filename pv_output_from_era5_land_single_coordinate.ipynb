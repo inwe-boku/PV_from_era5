{
 "cells": [
  {
   "cell_type": "code",
   "execution_count": 5,
   "metadata": {},
   "outputs": [],
   "source": [
    "#!/usr/bin/env python3\n",
    "# -*- coding: utf-8 -*-\n",
    "\"\"\"\n",
    "This script creates an array containing energy in kWh\n",
    "for a certain PV size based on ERA5-land data in a single coordinate\n",
    "\n",
    "Created on Monday July  29 14:17:50 2019\n",
    "\n",
    "@author: luis@refuel\n",
    "\"\"\"\n",
    "\n",
    "import xarray as xr\n",
    "import pvlib\n",
    "import pandas as pd\n",
    "import numpy as np\n",
    "import pvlib\n",
    "from pvlib.pvsystem import PVSystem\n",
    "from pvlib.location import Location\n",
    "from pvlib.modelchain import ModelChain\n",
    "\n",
    "\n",
    "\n"
   ]
  },
  {
   "cell_type": "markdown",
   "metadata": {},
   "source": [
    "The first step is to transform the cumulated values in J/sqm to instantaneous radiation values in W/sqm"
   ]
  },
  {
   "cell_type": "code",
   "execution_count": null,
   "metadata": {},
   "outputs": [],
   "source": []
  },
  {
   "cell_type": "markdown",
   "metadata": {},
   "source": [
    "load Specifications from standard/declared modules and inversters"
   ]
  },
  {
   "cell_type": "code",
   "execution_count": 6,
   "metadata": {},
   "outputs": [],
   "source": [
    "# load the module and inverter specifications\n",
    "sandia_modules = pvlib.pvsystem.retrieve_sam('SandiaMod')\n",
    "\n",
    "cec_inverters = pvlib.pvsystem.retrieve_sam('cecinverter')\n",
    "\n",
    "sandia_module = sandia_modules['Canadian_Solar_CS5P_220M___2009_']\n",
    "\n",
    "cec_inverter = cec_inverters['ABB__MICRO_0_25_I_OUTD_US_208_208V__CEC_2014_']"
   ]
  },
  {
   "cell_type": "markdown",
   "metadata": {},
   "source": [
    "define the location and the system parameters"
   ]
  },
  {
   "cell_type": "code",
   "execution_count": 7,
   "metadata": {},
   "outputs": [],
   "source": [
    "location = Location(latitude=32.2, longitude=-110.9)\n",
    "\n",
    "system = PVSystem(surface_tilt=20, surface_azimuth=2,\n",
    "                  module_parameters=sandia_module,\n",
    "                  inverter_parameters=cec_inverter)\n",
    "\n",
    "mc = ModelChain(system, location)"
   ]
  },
  {
   "cell_type": "code",
   "execution_count": 8,
   "metadata": {},
   "outputs": [
    {
     "name": "stdout",
     "output_type": "stream",
     "text": [
      "ModelChain: \n",
      "  name: None\n",
      "  orientation_strategy: None\n",
      "  clearsky_model: ineichen\n",
      "  transposition_model: haydavies\n",
      "  solar_position_method: nrel_numpy\n",
      "  airmass_model: kastenyoung1989\n",
      "  dc_model: sapm\n",
      "  ac_model: snlinverter\n",
      "  aoi_model: sapm_aoi_loss\n",
      "  spectral_model: sapm_spectral_loss\n",
      "  temp_model: sapm_temp\n",
      "  losses_model: no_extra_losses\n"
     ]
    }
   ],
   "source": [
    "print(mc)"
   ]
  },
  {
   "cell_type": "markdown",
   "metadata": {},
   "source": [
    "##to do -> modify the example escript changing the time step by a time series"
   ]
  },
  {
   "cell_type": "code",
   "execution_count": null,
   "metadata": {},
   "outputs": [],
   "source": [
    "weather = pd.DataFrame([[ghi_era5l, dni_era5l, dhi_era5l, temp_era5l, wind_speed_era5l]],\n",
    "                       columns=['ghi', 'dni', 'dhi', 'temp_air', 'wind_speed'],\n",
    "                       index=[pd.Timestamp('20170401 1200', tz='UTC')])\n",
    "\n",
    "mc.run_model(times=weather.index, weather=weather)"
   ]
  },
  {
   "cell_type": "code",
   "execution_count": null,
   "metadata": {},
   "outputs": [],
   "source": [
    "#separate the ssrd into direct and diffuse radiation \n",
    " \n",
    "\n",
    "def calc_pv_output(year, input_dir_radiation, input_dif_radiation, slope,\n",
    "                     aspect, lats, lons, area):\n",
    "    #load the data and get the inputs for the calculation \n",
    "    swdir_data=xr.open_dataset(input_dir_radiation, chunks={'lon': 100}) \n",
    "    swdif_data=xr.open_dataset(input_dif_radiation, chunks={'lon': 100}) \n",
    "    timepre = swdir_data[\"time\"].values\n",
    "    swdir_var=swdir_data[\"var22\"]\n",
    "    swdif_var=swdif_data[\"var23\"]\n",
    "    temp_data = xr.open_dataset(input_temp_data) \n",
    "    temp_var = temp_data[\"var11\"].sel(lon=lons,lat=lats,method='nearest')\n",
    "    #generate a xarray array to store the results\n",
    "    swdir = swdir_var.sel(lon=lons,lat=lats,method='nearest')\n",
    "    swdif = swdif_var.sel(lon=lons,lat=lats,method='nearest')\n",
    "    Azimuth = pvlib.solarposition.get_solarposition(timepre, lats, lons).azimuth.values\n",
    "    Zenith = pvlib.solarposition.get_solarposition(timepre, lats, lons).zenith.values\n",
    "    AOI = pvlib.irradiance.aoi(slope, aspect, Zenith, Azimuth)\n",
    "    diffuse = pvlib.irradiance.get_sky_diffuse(slope, aspect, Zenith, Azimuth, swdir, (swdir+swdif), swdif)\n",
    "    reflected = pvlib.irradiance.get_ground_diffuse(slope,(swdir+swdif),0.25)\n",
    "    inplane_ghi_var = pvlib.irradiance.poa_components(AOI,swdir,diffuse,reflected)[\"poa_global\"]\n",
    "    temp_air = temp_var-273.15 #rea6 temp and conversion to celsius\n",
    "    panel_eff = 0.21          #pv panel efficiency, up to 21% nowadays\n",
    "    temp_corr = -0.0045       #temperature correction factor, pv less efficient when higher temp\n",
    "    reduction_factor = 0.035  #reduction factor due to installation type\n",
    "    temp_nominal = 25   #nominal operating temperature, default 25 degrees C\n",
    "    production = (inplane_ghi_var*panel_eff*(1+((temp_corr)*\n",
    "                ((temp_air+(reduction_factor*inplane_ghi_var/area))\n",
    "                -temp_nominal))))*area/1000\n",
    "    production.plot()\n",
    "    return production.values\n",
    "\n",
    "#set the year\n",
    "year = \"2003\" #further options are \"2010\" and \"1995to2015\"\n",
    "input_dir_radiation = str(\"/media/luis_ws2/HDD2/CrossEnergy_deliverables/\" \n",
    "                          + \"basis_reanalysis_data/solar_radiation/\"\n",
    "                          + \"SWDIRS_RAD.2D.\"+str(year)+\".nc\")\n",
    "input_dif_radiation = str(\"/media/luis_ws2/HDD2/CrossEnergy_deliverables/\"\n",
    "                          +\"basis_reanalysis_data/solar_radiation/\"\n",
    "                          +\"/SWDIFDS_RAD.2D.\"+str(year)+\".nc\")\n",
    "input_temp_data = str(\"/media/luis_ws2/HDD2/CrossEnergy_deliverables/\"\n",
    "                      + \"basis_reanalysis_data/temperature/\"\n",
    "                      + \"T_2M.2D.\"+str(year)+\".nc\")\n",
    "#slope of the PV (0-90)\n",
    "slope = 70\n",
    "#aspect of the PV (starting in the North)\n",
    "aspect = 180\n",
    "lats = 50.0\n",
    "lons = 5.0\n",
    "area = 4.8 #area of pv panel, 4.8 sqm for aroung 1 kWp considering an efficiency of 21%\n",
    "calc_pv_output(year, input_dir_radiation, input_dif_radiation, slope,\n",
    "                     aspect, lats, lons, area)"
   ]
  },
  {
   "cell_type": "code",
   "execution_count": null,
   "metadata": {},
   "outputs": [],
   "source": []
  },
  {
   "cell_type": "code",
   "execution_count": null,
   "metadata": {},
   "outputs": [],
   "source": []
  }
 ],
 "metadata": {
  "kernelspec": {
   "display_name": "Python [conda env:miniconda3-py37]",
   "language": "python",
   "name": "conda-env-miniconda3-py37-py"
  },
  "language_info": {
   "codemirror_mode": {
    "name": "ipython",
    "version": 3
   },
   "file_extension": ".py",
   "mimetype": "text/x-python",
   "name": "python",
   "nbconvert_exporter": "python",
   "pygments_lexer": "ipython3",
   "version": "3.7.3"
  }
 },
 "nbformat": 4,
 "nbformat_minor": 2
}
