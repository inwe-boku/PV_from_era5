{
 "cells": [
  {
   "cell_type": "markdown",
   "metadata": {},
   "source": [
    "                                                                            Luis Ramirez Camargo, June 2020"
   ]
  },
  {
   "cell_type": "markdown",
   "metadata": {},
   "source": [
    "# Calculate accuracy indicators for PV output calculated with ERA5-land and MERRA 2 Data  \n",
    "\n",
    "This notebook uses the outputs from the notebook clean_measured_pv_data_installations_chile to evaluate the accuracy of the outputs from  the notebook pv_output_from_ERA5_land_and_merra2. The accuracy is assessed using the pearsons coorelation coeficient, the Mean Biased Error (MBE), the root mean square error (rmse). \n"
   ]
  },
  {
   "cell_type": "markdown",
   "metadata": {},
   "source": [
    "## 1) import the libraries and data"
   ]
  },
  {
   "cell_type": "code",
   "execution_count": 1,
   "metadata": {},
   "outputs": [],
   "source": [
    "import os\n",
    "import itertools\n",
    "import xarray as xr\n",
    "import pandas as pd\n",
    "from pandas.plotting import register_matplotlib_converters\n",
    "import numpy as np\n",
    "import matplotlib.pyplot as plt\n",
    "from pandas.plotting import register_matplotlib_converters\n",
    "register_matplotlib_converters()\n",
    "import glob\n",
    "from tkinter import Tcl\n",
    "import gc\n",
    "import scipy as sp\n",
    "import scipy.stats\n",
    "import seaborn as sns\n",
    "from pathlib import Path"
   ]
  },
  {
   "cell_type": "markdown",
   "metadata": {},
   "source": [
    "## Import the capacity factors of the meassured data"
   ]
  },
  {
   "cell_type": "code",
   "execution_count": 2,
   "metadata": {},
   "outputs": [],
   "source": [
    "reference = pd.read_csv(Path('intermediate_results/time_series_PV_sen_chile_capacity_factors.csv'),\n",
    "                        index_col=0, parse_dates=True)\n",
    "#errase the erroneous part of the time series of installations that despite erroneous shape\n",
    "#still have more than one year of meassurements and can be taken into account for comparison\n",
    "reference.loc[:'2017-09','SOLAR HORMIGA'] = np.nan\n",
    "reference.loc[:'2017-11','SOLAR EL AGUILA I'] = np.nan"
   ]
  },
  {
   "cell_type": "code",
   "execution_count": 3,
   "metadata": {},
   "outputs": [],
   "source": [
    "reference_optimal_des_rad = pd.read_csv(Path('data/deseason_rad_optimal_reference.csv'),\n",
    "                        index_col=0, parse_dates=True)\n",
    "reference_tracking_des_rad = pd.read_csv(Path('data/deseason_rad_tracking_reference.csv'),\n",
    "                        index_col=0, parse_dates=True)\n",
    "#errase the erroneous part of the time series of installations that despite erroneous shape\n",
    "#still have more than one year of meassurements and can be taken into account for comparison\n",
    "reference_optimal_des_rad.loc[:'2017-09','SOLAR HORMIGA'] = np.nan\n",
    "reference_optimal_des_rad.loc[:'2017-11','SOLAR EL AGUILA I'] = np.nan"
   ]
  },
  {
   "cell_type": "code",
   "execution_count": 4,
   "metadata": {},
   "outputs": [],
   "source": [
    "reference_non_tracking_cumulated = pd.read_csv(Path('intermediate_results/cumulated_non_tracking_reference.csv'),\n",
    "                        index_col=0, parse_dates=True)\n",
    "reference_tracking_cumulated = pd.read_csv(Path('intermediate_results/cumulated_tracking_reference.csv'),\n",
    "                        index_col=0, parse_dates=True)"
   ]
  },
  {
   "cell_type": "code",
   "execution_count": 5,
   "metadata": {},
   "outputs": [],
   "source": [
    "reference_non_tracking_des_cumulated = pd.read_csv(Path('intermediate_results/cumulated_deseason_non_tracking_reference.csv'),\n",
    "                        index_col=0, parse_dates=True)\n",
    "reference_tracking_des_cumulated = pd.read_csv(Path('intermediate_results/cumulated_deseason_tracking_reference.csv'),\n",
    "                        index_col=0, parse_dates=True)"
   ]
  },
  {
   "cell_type": "markdown",
   "metadata": {},
   "source": [
    "## 3) Import the capacity factors of the PV output calculated with ERA5-land data and MERRA2-data "
   ]
  },
  {
   "cell_type": "code",
   "execution_count": 6,
   "metadata": {},
   "outputs": [],
   "source": [
    "#modify the calculated data sets time series to match chilean summer time\n",
    "#this cannot be performed automatically since the dailight summer time in chile changes from year to year\n",
    "def summer_time_chile(cf_file):\n",
    "    cf_utc = pd.read_csv(cf_file, index_col=0, parse_dates=True)\n",
    "    cf_ut_st_2014 = cf_utc[\"2014-04-27\":\"2014-09-07\"].shift(periods=-1).copy()\n",
    "    cf_ut_st_2016 = cf_utc[\"2016-05-15\":\"2016-08-14\"].shift(periods=-1).copy()\n",
    "    cf_ut_st_2017 = cf_utc[\"2017-05-14\":\"2017-08-14\"].shift(periods=-1).copy()\n",
    "    cf_ut_st_2018 = cf_utc[\"2018-05-13\":\"2018-08-12\"].shift(periods=-1).copy()\n",
    "    cf_utc_st = cf_utc.copy()\n",
    "    cf_utc_st.loc[\"2014-04-27\":\"2014-09-07\"] = cf_ut_st_2014\n",
    "    cf_utc_st.loc[\"2016-05-15\":\"2016-08-14\"] = cf_ut_st_2016 \n",
    "    cf_utc_st.loc[\"2017-05-14\":\"2017-08-14\"] = cf_ut_st_2017\n",
    "    cf_utc_st.loc[\"2018-05-13\":\"2018-08-12\"] = cf_ut_st_2018\n",
    "    return cf_utc_st"
   ]
  },
  {
   "cell_type": "code",
   "execution_count": 7,
   "metadata": {},
   "outputs": [],
   "source": [
    "era5l_optimal = \\\n",
    "summer_time_chile(Path('intermediate_results/timeseries_capacity_factors_pv_optimal_era5l.csv'))\n",
    "merra2_optimal = \\\n",
    "summer_time_chile(Path('intermediate_results/timeseries_capacity_factors_pv_optimal_merra2.csv'))\n",
    "era5l_tracking = \\\n",
    "summer_time_chile(Path('intermediate_results/timeseries_capacity_factors_pv_tracking_era5l.csv'))\n",
    "merra2_tracking = \\\n",
    "summer_time_chile(Path('intermediate_results/timeseries_capacity_factors_pv_tracking_merra2.csv'))"
   ]
  },
  {
   "cell_type": "code",
   "execution_count": 8,
   "metadata": {},
   "outputs": [],
   "source": [
    "era5l_optimal_cumulated = \\\n",
    "summer_time_chile(Path('intermediate_results/cumulated_non_tracking_era5l.csv'))\n",
    "merra2_optimal_cumulated = \\\n",
    "summer_time_chile(Path('intermediate_results/cumulated_non_tracking_merra2.csv'))\n",
    "era5l_tracking_cumulated = \\\n",
    "summer_time_chile(Path('intermediate_results/cumulated_tracking_era5l.csv'))\n",
    "merra2_tracking_cumulated = \\\n",
    "summer_time_chile(Path('intermediate_results/cumulated_tracking_merra2.csv'))"
   ]
  },
  {
   "cell_type": "code",
   "execution_count": 9,
   "metadata": {},
   "outputs": [],
   "source": [
    "era5l_optimal_des_rad = \\\n",
    "summer_time_chile(Path('data/deseason_rad_optimal_era5l.csv'))\n",
    "merra2_optimal_des_rad = \\\n",
    "summer_time_chile(Path('data/deseason_rad_optimal_merra2.csv'))\n",
    "era5l_tracking_des_rad = \\\n",
    "summer_time_chile(Path('data/deseason_rad_tracking_era5l.csv'))\n",
    "merra2_tracking_des_rad = \\\n",
    "summer_time_chile(Path('data/deseason_rad_tracking_merra2.csv'))"
   ]
  },
  {
   "cell_type": "code",
   "execution_count": 10,
   "metadata": {},
   "outputs": [],
   "source": [
    "era5l_optimal_des_rad_cumulated = \\\n",
    "summer_time_chile(Path('intermediate_results/cumulated_deseason_non_tracking_era5l.csv'))\n",
    "merra2_optimal_des_rad_cumulated = \\\n",
    "summer_time_chile(Path('intermediate_results/cumulated_deseason_non_tracking_merra2.csv'))\n",
    "era5l_tracking_des_rad_cumulated = \\\n",
    "summer_time_chile(Path('intermediate_results/cumulated_deseason_tracking_era5l.csv'))\n",
    "merra2_tracking_des_rad_cumulated = \\\n",
    "summer_time_chile(Path('intermediate_results/cumulated_deseason_tracking_merra2.csv'))"
   ]
  },
  {
   "cell_type": "markdown",
   "metadata": {},
   "source": [
    "## 4) Indicators calculation for the validation ERA5-land"
   ]
  },
  {
   "cell_type": "code",
   "execution_count": 11,
   "metadata": {},
   "outputs": [],
   "source": [
    "def validate_pv_output_all(reference_values_df,calculated_values_df, name_file_to_store):\n",
    "    '''calculate the accuracy indicators for each plant where the reference data set is not empty'''\n",
    "    indicators = pd.DataFrame(columns=(\"pearson_h\",\n",
    "                                       \"mbe_h\",\n",
    "                                       \"rmse_h\",\n",
    "                                       \"observations\",\n",
    "                                       \"pearson_d\",\n",
    "                                       \"mbe_d\",\n",
    "                                       \"rmse_d\",\n",
    "                                       \"days\",\n",
    "                                       \"pearson_m\",\n",
    "                                       \"mbe_m\",\n",
    "                                       \"rmse_m\",\n",
    "                                       \"months\"), index=calculated_values_df.columns)\n",
    "    for plant in calculated_values_df.columns:\n",
    "        if np.sum(reference_values_df[plant][\"2014\":\"2018\"]) != 0:\n",
    "            #print(plant)\n",
    "            comp_pre = pd.DataFrame(columns=(\"new\",\"reference\"), index=calculated_values_df.index)\n",
    "            #print(np.array(calculated_values_df.index).size)\n",
    "            comp_pre[\"new\"] = np.array(calculated_values_df[plant][\"2014\":\"2018\"]).copy()\n",
    "            #print(np.array(reference_values_df[plant][\"2014\":\"2018\"].copy()).size)\n",
    "            #print(reference_values_df[plant][\"2014-01-01\"])\n",
    "            comp_pre.loc[3:,\"reference\"] = reference_values_df[plant][:-5].values\n",
    "            #print(comp_pre)\n",
    "            comp = comp_pre.dropna(axis=0).copy()\n",
    "            #print(comp)\n",
    "            new = comp[\"new\"]\n",
    "            reference = comp[\"reference\"]\n",
    "            pearson = sp.stats.pearsonr(reference.astype(float), new.astype(float))\n",
    "            indicators.loc[plant][\"pearson_h\"] = pearson[0]\n",
    "            indicators.loc[plant][\"mbe_h\"] = (np.sum(new-reference))/np.sum(reference.size)\n",
    "            observations = comp.size/comp.columns.size\n",
    "            indicators.loc[plant][\"observations\"] = observations\n",
    "            indicators.loc[plant][\"rmse_h\"] = np.sqrt((np.sum((new-reference)**2))/(observations))\n",
    "            #indicators.loc[plant][\"rmse_r_h\"] = np.sqrt((np.sum((new-reference)**2))/observations)/(np.sum(reference/observations))\n",
    "            new_avg_day = round(new.resample('D').mean(),4).dropna().copy()\n",
    "            days = new_avg_day.size\n",
    "            indicators.loc[plant][\"days\"] = days\n",
    "            reference_avg_day = round(reference.astype(float).resample('D').mean(),4).dropna().copy()\n",
    "            pearson_days = sp.stats.pearsonr(reference_avg_day.astype(float), new_avg_day.astype(float))\n",
    "            indicators.loc[plant][\"pearson_d\"] = pearson_days[0]\n",
    "            indicators.loc[plant][\"mbe_d\"] = (np.sum(new_avg_day-reference_avg_day))/np.sum(reference_avg_day.size)\n",
    "            indicators.loc[plant][\"rmse_d\"] = np.sqrt((np.sum((new_avg_day-reference_avg_day)**2))/(np.sum(reference_avg_day.size)))\n",
    "            new_avg_month = round(new.resample('M').mean(),4).dropna().copy()\n",
    "            months = new_avg_month.size \n",
    "            if months > 1:\n",
    "                #print(plant)\n",
    "                reference_avg_month = round(reference.astype(float).resample('M').mean(),4).dropna().copy()\n",
    "                pearson_months = sp.stats.pearsonr(reference_avg_month.astype(float), new_avg_month.astype(float))\n",
    "                indicators.loc[plant][\"pearson_m\"] = pearson_months[0]\n",
    "                indicators.loc[plant][\"mbe_m\"] = (np.sum(new_avg_month-reference_avg_month))/np.sum(reference_avg_month.size)\n",
    "                indicators.loc[plant][\"rmse_m\"] = np.sqrt((np.sum((new_avg_month-reference_avg_month)**2))/(np.sum(reference_avg_month.size)))\n",
    "                indicators.loc[plant][\"months\"] = months\n",
    "    #drop all installations where no meassured data is available\n",
    "    indicators = indicators.dropna().copy()\n",
    "    #drop all installations where less than 12 months of data are available\n",
    "    minimum_months = 12\n",
    "    indicators = indicators.loc[indicators[\"months\"] > minimum_months].drop([\"observations\",\n",
    "                                                                              \"days\",\n",
    "                                                                              \"months\"], axis=1).copy()\n",
    "    indicators.to_csv(name_file_to_store)\n",
    "    return indicators"
   ]
  },
  {
   "cell_type": "code",
   "execution_count": 12,
   "metadata": {},
   "outputs": [],
   "source": [
    "#calculate the indicators between raw meassured data and all ERA5 and MERRA2 \n",
    "#based estimations for tracking and non-tracking systems\n",
    "indicators_era5l_optimal = validate_pv_output_all(reference,\n",
    "                                                  era5l_optimal,\n",
    "                                                  Path('intermediate_results/indicators_era5l_optimal.csv'))\n",
    "indicators_era5l_tracking = validate_pv_output_all(reference,\n",
    "                                                  era5l_tracking,\n",
    "                                                  Path('intermediate_results/indicators_era5l_tracking.csv'))\n",
    "indicators_merra2_optimal = validate_pv_output_all(reference,\n",
    "                                                  merra2_optimal,\n",
    "                                                  Path('intermediate_results/indicators_merra2_optimal.csv'))\n",
    "indicators_merra2_tracking = validate_pv_output_all(reference,\n",
    "                                                  merra2_tracking,\n",
    "                                                  Path('intermediate_results/indicators_merra2_tracking.csv'))"
   ]
  },
  {
   "cell_type": "code",
   "execution_count": 13,
   "metadata": {},
   "outputs": [],
   "source": [
    "#calculate the indicators between deseasonalized meassured data and all deseasonalized ERA5 and MERRA2 \n",
    "#based estimations for tracking and non-tracking systems\n",
    "indicators_era5l_optimal_des_rad = \\\n",
    "validate_pv_output_all(reference_optimal_des_rad,\n",
    "                       era5l_optimal_des_rad,\n",
    "                       Path('intermediate_results/indicators_era5l_optimal_deseason_rad.csv'))\n",
    "indicators_era5l_tracking_des_rad =\\\n",
    "validate_pv_output_all(reference_tracking_des_rad,\n",
    "                       era5l_tracking_des_rad,\n",
    "                       Path('intermediate_results/indicators_era5l_tracking_deseason_rad.csv'))\n",
    "indicators_merra2_optimal_des_rad = \\\n",
    "validate_pv_output_all(reference_optimal_des_rad,\n",
    "                       merra2_optimal_des_rad,\n",
    "                       Path('intermediate_results/indicators_merra2_optimal_deseason_rad.csv'))\n",
    "indicators_merra2_tracking_des_rad = \\\n",
    "validate_pv_output_all(reference_tracking_des_rad,\n",
    "                       merra2_tracking_des_rad,\n",
    "                       Path('intermediate_results/indicators_merra2_tracking_deseason_rad.csv'))"
   ]
  },
  {
   "cell_type": "code",
   "execution_count": 14,
   "metadata": {},
   "outputs": [],
   "source": [
    "indicators_era5l_optimal_cumulated = \\\n",
    "validate_pv_output_all(reference_non_tracking_cumulated,\n",
    "                       era5l_optimal_cumulated,\n",
    "                       Path('intermediate_results/indicators_era5l_optimal_cumulated.csv'))\n",
    "indicators_era5l_tracking_cumulated =\\\n",
    "validate_pv_output_all(reference_tracking_cumulated,\n",
    "                       era5l_tracking_cumulated,\n",
    "                       Path('intermediate_results/indicators_era5l_tracking_cumulated.csv'))\n",
    "indicators_merra2_optimal_cumulated = \\\n",
    "validate_pv_output_all(reference_non_tracking_cumulated,\n",
    "                       merra2_optimal_cumulated,\n",
    "                       Path('intermediate_results/indicators_merra2_optimal_cumulated.csv'))\n",
    "indicators_merra2_tracking_cumulated = \\\n",
    "validate_pv_output_all(reference_tracking_cumulated,\n",
    "                       merra2_tracking_cumulated,\n",
    "                       Path('intermediate_results/indicators_merra2_tracking_cumulated.csv'))"
   ]
  },
  {
   "cell_type": "code",
   "execution_count": 15,
   "metadata": {},
   "outputs": [],
   "source": [
    "indicators_era5l_optimal_des_cumulated = \\\n",
    "validate_pv_output_all(reference_non_tracking_des_cumulated,\n",
    "                       era5l_optimal_des_rad_cumulated,\n",
    "                       Path('intermediate_results/indicators_era5l_optimal_deseason_cumulated.csv'))\n",
    "indicators_era5l_tracking_des_cumulated =\\\n",
    "validate_pv_output_all(reference_tracking_des_cumulated,\n",
    "                       era5l_tracking_des_rad_cumulated,\n",
    "                       Path('intermediate_results/indicators_era5l_tracking_deseason_cumulated.csv'))\n",
    "indicators_merra2_optimal_des_cumulated = \\\n",
    "validate_pv_output_all(reference_non_tracking_des_cumulated,\n",
    "                       merra2_optimal_des_rad_cumulated,\n",
    "                       Path('intermediate_results/indicators_merra2_optimal_deseason_cumulated.csv'))\n",
    "indicators_merra2_tracking_des_cumulated = \\\n",
    "validate_pv_output_all(reference_tracking_des_cumulated,\n",
    "                       merra2_tracking_des_rad_cumulated,\n",
    "                       Path('intermediate_results/indicators_merra2_tracking_deseason_cumulated.csv'))"
   ]
  }
 ],
 "metadata": {
  "kernelspec": {
   "display_name": "Python [conda env:miniconda3-py37]",
   "language": "python",
   "name": "conda-env-miniconda3-py37-py"
  },
  "language_info": {
   "codemirror_mode": {
    "name": "ipython",
    "version": 3
   },
   "file_extension": ".py",
   "mimetype": "text/x-python",
   "name": "python",
   "nbconvert_exporter": "python",
   "pygments_lexer": "ipython3",
   "version": "3.7.3"
  }
 },
 "nbformat": 4,
 "nbformat_minor": 2
}
