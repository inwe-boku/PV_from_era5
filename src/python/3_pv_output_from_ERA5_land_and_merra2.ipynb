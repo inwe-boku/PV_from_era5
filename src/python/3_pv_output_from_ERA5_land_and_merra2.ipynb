{
 "cells": [
  {
   "cell_type": "markdown",
   "metadata": {},
   "source": [
    "                                                                            Luis Ramirez Camargo, June 2020"
   ]
  },
  {
   "cell_type": "markdown",
   "metadata": {},
   "source": [
    "# PV output from ERA5-land and MERRA2 data using PV_lib\n",
    "This notebook calculates hourly PV power output for the location of the Chilean PV installations uing PV_LIB. The output is calculated for installations oriented north and with an inclination equal to the latitude, as well as for single tracker systems. The calculation is made in all cases using ERA5-land or MERRA2 data. This notebook requires the time series generated using the notebook 2_get_time_series_from_era5_land_and_merra2_for_pv_calculation. Furthermore, the output of this notebook is part of the input for the validation and intercomparison procedure in 4_pv_validation_ERA5_land_MERRA2. \n"
   ]
  },
  {
   "cell_type": "markdown",
   "metadata": {},
   "source": [
    "## 1) import the libraries and data"
   ]
  },
  {
   "cell_type": "code",
   "execution_count": 1,
   "metadata": {},
   "outputs": [],
   "source": [
    "import os\n",
    "import itertools\n",
    "import xarray as xr\n",
    "import pandas as pd\n",
    "from pandas.plotting import register_matplotlib_converters\n",
    "import numpy as np\n",
    "import pvlib\n",
    "from pvlib import clearsky, atmosphere, solarposition\n",
    "from pvlib.iotools import read_tmy3\n",
    "from pvlib.pvsystem import PVSystem\n",
    "from pvlib.location import Location\n",
    "from pvlib.modelchain import ModelChain\n",
    "import matplotlib.pyplot as plt\n",
    "from pandas.plotting import register_matplotlib_converters\n",
    "register_matplotlib_converters()\n",
    "import geopandas\n",
    "import glob\n",
    "from tkinter import Tcl\n",
    "import gc\n",
    "import unidecode\n",
    "import scipy as sp\n",
    "import scipy.stats\n",
    "import seaborn as sns\n",
    "from pathlib import Path\n",
    "from pvlib.tools import cosd, sind"
   ]
  },
  {
   "cell_type": "markdown",
   "metadata": {},
   "source": [
    "## Import locations"
   ]
  },
  {
   "cell_type": "code",
   "execution_count": 2,
   "metadata": {},
   "outputs": [],
   "source": [
    "installations_chile_pre = \\\n",
    "Path(\"input_data/solares_fd0779de_0870_4194_b962_83a842d8c316.shp\")\n",
    "def clean_installations_locations(installations_chile_pre):\n",
    "    '''creates a data frame with the location and basic \n",
    "    characteristics of the large PV installations in Chile'''\n",
    "    pvs_chile = geopandas.read_file(installations_chile_pre)\n",
    "    pvs_chile_4326 = pvs_chile.to_crs(epsg=4326)\n",
    "    installations_list = pvs_chile_4326[\"NOMBRE\"]\n",
    "    installations_chile = pd.DataFrame({'latitude': pvs_chile_4326.geometry.y.values, \n",
    "                        'longitude': pvs_chile_4326.geometry.x.values, \n",
    "                        'size': pvs_chile_4326['POTENCIA'].values, \n",
    "                        'official_operation_start': pd.to_datetime(pvs_chile_4326['F_OPERACIO'].values), \n",
    "                        'end_time': pd.to_datetime('2018-12-30')},\n",
    "                       index=installations_list)\n",
    "    return installations_chile\n",
    "\n",
    "installations_chile = clean_installations_locations(installations_chile_pre)"
   ]
  },
  {
   "cell_type": "markdown",
   "metadata": {},
   "source": [
    "## Import the weather parameters"
   ]
  },
  {
   "cell_type": "code",
   "execution_count": 3,
   "metadata": {},
   "outputs": [],
   "source": [
    "era5l_radiation_file = Path('time_series_from_reanalysis_data_sets/eral5_radiation_all_installations.csv')\n",
    "era5l_temperature_file = Path('time_series_from_reanalysis_data_sets/eral5_temperature_all_installations.csv')\n",
    "era5l_wind_speed_file = Path('time_series_from_reanalysis_data_sets/eral5_wind_speed_all_installations.csv')\n",
    "merra2_radiation_file = Path('time_series_from_reanalysis_data_sets/merra2_radiation_all_installations.csv')\n",
    "merra2_temperature_file = Path('time_series_from_reanalysis_data_sets/merra2_temperature_all_installations.csv')\n",
    "merra2_wind_speed_file = Path('time_series_from_reanalysis_data_sets/merra2_wind_speed_all_installations.csv')\n",
    "#the time index is imported as UTC \n",
    "era5l_radiation = pd.read_csv(era5l_radiation_file,\n",
    "                              index_col=0,\n",
    "                              parse_dates=True).tz_localize(tz='UTC')\n",
    "era5l_temperature = pd.read_csv(era5l_temperature_file,\n",
    "                                index_col=0,\n",
    "                                parse_dates=True).tz_localize(tz='UTC')\n",
    "era5l_wind_speed = pd.read_csv(era5l_wind_speed_file,\n",
    "                               index_col=0,\n",
    "                               parse_dates=True).tz_localize(tz='UTC')\n",
    "merra2_radiation = pd.read_csv(merra2_radiation_file,\n",
    "                               index_col=0,\n",
    "                               parse_dates=True).tz_localize(tz='UTC')\n",
    "merra2_temperature = pd.read_csv(merra2_temperature_file,\n",
    "                                 index_col=0,\n",
    "                                 parse_dates=True).tz_localize(tz='UTC')\n",
    "merra2_wind_speed = pd.read_csv(merra2_wind_speed_file,\n",
    "                                index_col=0,\n",
    "                                parse_dates=True).tz_localize(tz='UTC')"
   ]
  },
  {
   "cell_type": "code",
   "execution_count": 4,
   "metadata": {},
   "outputs": [],
   "source": [
    "def shift_and_clean(resample_time_step, shifting, reanalysis_variable):\n",
    "    '''resample a a data frame to a certain time step, keeps the stored values only once,\n",
    "    shift the time a defined amount of time steps and drops all the NaN values in a data frame.\n",
    "    the output data frame has the same lenght as the input data frame but the time index is \n",
    "    shifted. eg. remsampe_time_step ='30min', shifting=1, reanalysis_variable=era5l_radiation'''\n",
    "    reanalysis_variable_shifted = reanalysis_variable.resample(resample_time_step).asfreq().shift(periods = shifting).dropna()\n",
    "    return reanalysis_variable_shifted"
   ]
  },
  {
   "cell_type": "code",
   "execution_count": 5,
   "metadata": {},
   "outputs": [],
   "source": [
    "#run shift_and_clean for all variables of the 2 different reanalysis\n",
    "merra2_radiation_30m = shift_and_clean('30min', 1, merra2_radiation)\n",
    "merra2_temperature_30m = shift_and_clean('30min', 1, merra2_temperature)\n",
    "merra2_wind_speed_30m = shift_and_clean('30min', 1, merra2_wind_speed)\n",
    "era5l_radiation_30m = shift_and_clean('30min', 1, era5l_radiation)\n",
    "era5l_temperature_30m = shift_and_clean('30min', 1, era5l_temperature)\n",
    "era5l_wind_speed_30m = shift_and_clean('30min', 1, era5l_wind_speed)"
   ]
  },
  {
   "cell_type": "markdown",
   "metadata": {},
   "source": [
    "## Calculate clear sky values for each location"
   ]
  },
  {
   "cell_type": "code",
   "execution_count": 6,
   "metadata": {},
   "outputs": [],
   "source": [
    "def get_irrad_clear_sky(lats, lons, time_horizon):\n",
    "    pv_installation = Location(lats, lons, tz='UTC')\n",
    "    ephem_pv_installation = pvlib.solarposition.get_solarposition(time_horizon, pv_installation.latitude, pv_installation.longitude)\n",
    "    tracker_data = pvlib.tracking.singleaxis(ephem_pv_installation['apparent_zenith'],\n",
    "                                             ephem_pv_installation['azimuth'],\n",
    "                                             axis_tilt=0,\n",
    "                                             axis_azimuth=0,\n",
    "                                             max_angle=90,\n",
    "                                             backtrack=True,\n",
    "                                             gcr=2.0/7.0)\n",
    "    irrad_data = pv_installation.get_clearsky(time_horizon)\n",
    "    dni_et = pvlib.irradiance.get_extra_radiation(irrad_data.index, method='asce')\n",
    "    haydavies_diffuse = pvlib.irradiance.haydavies(tracker_data['surface_tilt'], tracker_data['surface_azimuth'], \n",
    "                                                irrad_data['dhi'], irrad_data['dni'], dni_et,\n",
    "                                                ephem_pv_installation['apparent_zenith'], ephem_pv_installation['azimuth'])\n",
    "    ground_irrad = pvlib.irradiance.get_ground_diffuse(tracker_data['surface_tilt'], irrad_data['ghi'], albedo=.25)\n",
    "    global_in_plane = (cosd(tracker_data['aoi'])*irrad_data['dni']) + haydavies_diffuse + ground_irrad\n",
    "    return irrad_data, dni_et, global_in_plane"
   ]
  },
  {
   "cell_type": "code",
   "execution_count": 7,
   "metadata": {},
   "outputs": [],
   "source": [
    "def get_clear_sky_ghi_all(time_horizon):\n",
    "    '''runs the function pv_output_system for all PV plants in Chile\n",
    "    and creates a data frame with the times series'''\n",
    "    clear_sky_ghi_all = pd.DataFrame(columns=installations_chile.index, index=pd.to_datetime(time_horizon))\n",
    "    for installation in installations_chile.index:\n",
    "        clear_sky_ghi_all[installation] = get_irrad_clear_sky(installations_chile.latitude[installation],\n",
    "                                                              installations_chile.longitude[installation],\n",
    "                                                              time_horizon)[0]['ghi'].values\n",
    "    return clear_sky_ghi_all"
   ]
  },
  {
   "cell_type": "code",
   "execution_count": 8,
   "metadata": {},
   "outputs": [],
   "source": [
    "def get_clear_sky_global_in_plane_all(time_horizon):\n",
    "    '''runs the function pv_output_system for all PV plants in Chile\n",
    "    and creates a data frame with the times series'''\n",
    "    clear_sky_global_in_plane_all = pd.DataFrame(columns=installations_chile.index, index=pd.to_datetime(time_horizon))\n",
    "    for installation in installations_chile.index:\n",
    "        clear_sky_global_in_plane_all[installation] = get_irrad_clear_sky(installations_chile.latitude[installation],\n",
    "                                                              installations_chile.longitude[installation],\n",
    "                                                              time_horizon)[2].values\n",
    "    return clear_sky_global_in_plane_all"
   ]
  },
  {
   "cell_type": "code",
   "execution_count": 9,
   "metadata": {},
   "outputs": [],
   "source": [
    "clear_sky_ghi_all = get_clear_sky_ghi_all(era5l_radiation_30m.index) "
   ]
  },
  {
   "cell_type": "code",
   "execution_count": 10,
   "metadata": {},
   "outputs": [],
   "source": [
    "clear_sky_ghi_all_00 = clear_sky_ghi_all\n",
    "clear_sky_ghi_all_00.index = pd.date_range(start='2014-01-01 00:00:00',\n",
    "                                           end='2018-12-31 22:00:00',\n",
    "                                           freq='H')\n",
    "clear_sky_ghi_all_00.to_csv(Path('intermediate_results/clear_sky_ghi_all_00.csv'))"
   ]
  },
  {
   "cell_type": "code",
   "execution_count": 11,
   "metadata": {},
   "outputs": [],
   "source": [
    "clear_sky_global_in_plane_all = get_clear_sky_global_in_plane_all(era5l_radiation_30m.index)"
   ]
  },
  {
   "cell_type": "code",
   "execution_count": 12,
   "metadata": {},
   "outputs": [],
   "source": [
    "clear_sky_global_in_plane_all_00 = clear_sky_global_in_plane_all\n",
    "clear_sky_global_in_plane_all_00.index = pd.date_range(start='2014-01-01 00:00:00',\n",
    "                                                       end='2018-12-31 22:00:00',\n",
    "                                                       freq='H')\n",
    "clear_sky_global_in_plane_all_00.to_csv(Path('intermediate_results/clear_sky_global_in_plane_all_00.csv'))"
   ]
  },
  {
   "cell_type": "markdown",
   "metadata": {},
   "source": [
    "## Caculate the PV output assuming optimal configuration and tracking"
   ]
  },
  {
   "cell_type": "code",
   "execution_count": 13,
   "metadata": {},
   "outputs": [],
   "source": [
    "def pv_output_system(radiation_pre, temperature_pre, wind_speed_pre,lons,lats,tracking,installed_capacity_kWp):\n",
    "    '''calculates ac output in Wh of a PV installation either heading\n",
    "    to the ecuator and an inclination equal to the latitude or assuming \n",
    "    a single-axis tracking system for a particular location. It requires\n",
    "    time series of solar radiation, temperature (in °C at 2 m)and wind \n",
    "    speed (in m/s at 1 m altitude) as well as the coordinates of the location\n",
    "    and either 0 or 1 to define the type of tracker as input'''\n",
    "    location = Location(latitude=lats, longitude=lons, tz='UTC')\n",
    "    temperature = temperature_pre\n",
    "    wind_speed = wind_speed_pre\n",
    "    ghi_input = radiation_pre\n",
    "    timeindex = ghi_input.asfreq(freq='1H').index\n",
    "    dayofyear = timeindex.dayofyear\n",
    "    ephem_pv_installation = pvlib.solarposition.pyephem(timeindex, \n",
    "                                                        location.latitude, \n",
    "                                                        location.longitude,\n",
    "                                                        temperature=np.mean(temperature))\n",
    "    Zenith = ephem_pv_installation['zenith']\n",
    "    if tracking == 0:\n",
    "        slope = lats\n",
    "        if lats >= 0:\n",
    "            aspect = 0\n",
    "        elif lats < 0:\n",
    "            aspect = 180\n",
    "    elif tracking == 1:\n",
    " \n",
    "        tracker_data = pvlib.tracking.singleaxis(ephem_pv_installation['apparent_zenith'],\n",
    "                                                 ephem_pv_installation['azimuth'],\n",
    "                                                 axis_tilt=0,\n",
    "                                                 axis_azimuth=0,\n",
    "                                                 max_angle=90,\n",
    "                                                 backtrack=True,\n",
    "                                                 gcr=2.0/7.0)\n",
    "        slope = tracker_data['surface_tilt']\n",
    "        aspect = tracker_data['surface_azimuth']\n",
    "    #solartime = ephem_pv_installation['solar_time'] \n",
    "    #clearsky_irrad = location.get_clearsky(timeindex)\n",
    "    #clearsky_irrad['2018-01-01'].plot()\n",
    "    dni_pre = pvlib.irradiance.disc(ghi_input,Zenith,dayofyear)['dni']\n",
    "    dhi_pre = ghi_input - dni_pre *cosd(Zenith)\n",
    "    weather = pd.DataFrame({'ghi': ghi_input, \n",
    "                        'dni': dni_pre, \n",
    "                        'dhi': dhi_pre, \n",
    "                        'temp_air': temperature, \n",
    "                        'wind_speed': wind_speed},\n",
    "                       index=timeindex)\n",
    "    #weather['2017-06-01':'2017-06-08'].plot(figsize=(18,6))\n",
    "    sandia_modules = pvlib.pvsystem.retrieve_sam('SandiaMod')\n",
    "    cec_inverters = pvlib.pvsystem.retrieve_sam('cecinverter')\n",
    "    #the follow selection requires some sort of automatization\n",
    "    sandia_module = sandia_modules['Silevo_Triex_U300_Black__2014_']\n",
    "    #Tries with the stc where understimating the yearly sum. Decided to use the PTC\n",
    "    PTC = 280.5\n",
    "    cec_inverter = cec_inverters['ABB__MICRO_0_3_I_OUTD_US_240_240V__CEC_2014_']\n",
    "    #check that the Paco is at least equal to the STC\n",
    "    number_of_panels_1kWp = 1000/PTC\n",
    "    area_1kWp = number_of_panels_1kWp * sandia_module['Area']\n",
    "    system = PVSystem(surface_tilt=slope, surface_azimuth=aspect,\n",
    "                  module_parameters=sandia_module,\n",
    "                  inverter_parameters=cec_inverter)\n",
    "    mc = ModelChain(system, location)\n",
    "    mc.run_model(times=weather.index, weather=weather)\n",
    "    pv_output = (mc.ac * number_of_panels_1kWp * installed_capacity_kWp).fillna(0)\n",
    "    return pv_output"
   ]
  },
  {
   "cell_type": "code",
   "execution_count": 14,
   "metadata": {},
   "outputs": [],
   "source": [
    "def get_pv_output_all(radiation_df, temperature_df, wind_speed_df, tracking, installed_capacity_kWp):\n",
    "    '''runs the function pv_output_system for all PV plants in Chile\n",
    "    and creates a data frame with the times series'''\n",
    "    date_range = pd.date_range(start='2014-01-01 00:00:00', end='2018-12-31 22:00:00', freq='H')\n",
    "    pv_output_optimal = pd.DataFrame(columns=installations_chile.index, index=pd.to_datetime(date_range))\n",
    "    for installation in installations_chile.index:\n",
    "        pv_output_optimal[installation] = pv_output_system(radiation_df[installation], \n",
    "                                                           temperature_df[installation], \n",
    "                                                           wind_speed_df[installation],\n",
    "                                                           installations_chile.longitude[installation],\n",
    "                                                           installations_chile.latitude[installation], \n",
    "                                                           tracking,\n",
    "                                                           installed_capacity_kWp).values\n",
    "    return pv_output_optimal"
   ]
  },
  {
   "cell_type": "code",
   "execution_count": 15,
   "metadata": {},
   "outputs": [],
   "source": [
    "#calculate the pv output assuming non-tracking configuration\n",
    "timeseries_pv_optimal_era5l = get_pv_output_all(era5l_radiation_30m, \n",
    "                                                        era5l_temperature_30m,\n",
    "                                                        era5l_wind_speed_30m, 0, 1)\n",
    "timeseries_pv_optimal_merra2 = get_pv_output_all(merra2_radiation_30m, \n",
    "                                                        merra2_temperature_30m,\n",
    "                                                        merra2_wind_speed_30m, 0, 1)\n",
    "timeseries_pv_optimal_clear_sky = get_pv_output_all(clear_sky_ghi_all, \n",
    "                                                        ((era5l_temperature_30m*0)+20),\n",
    "                                                        (era5l_wind_speed_30m*0), 0, 1)"
   ]
  },
  {
   "cell_type": "code",
   "execution_count": 16,
   "metadata": {},
   "outputs": [],
   "source": [
    "#calculate the pv output assuming tracking configuration\n",
    "timeseries_pv_tracking_era5l = get_pv_output_all(era5l_radiation_30m, \n",
    "                                                        era5l_temperature_30m,\n",
    "                                                        era5l_wind_speed_30m, 1, 1)\n",
    "timeseries_pv_tracking_merra2 = get_pv_output_all(merra2_radiation_30m, \n",
    "                                                        merra2_temperature_30m,\n",
    "                                                        merra2_wind_speed_30m, 1, 1)\n",
    "timeseries_pv_tracking_clear_sky = get_pv_output_all(clear_sky_ghi_all, \n",
    "                                                        ((era5l_temperature_30m*0)+20),\n",
    "                                                        (era5l_wind_speed_30m*0), 1, 1)"
   ]
  },
  {
   "cell_type": "code",
   "execution_count": 17,
   "metadata": {},
   "outputs": [],
   "source": [
    "#save the data frames of PV output to csv files\n",
    "timeseries_pv_optimal_era5l.to_csv(Path('intermediate_results/timeseries_pv_optimal_era5l.csv'))\n",
    "timeseries_pv_optimal_merra2.to_csv(Path('intermediate_results/timeseries_pv_optimal_merra2.csv'))\n",
    "timeseries_pv_tracking_era5l.to_csv(Path('intermediate_results/timeseries_pv_tracking_era5l.csv'))\n",
    "timeseries_pv_tracking_merra2.to_csv(Path('intermediate_results/timeseries_pv_tracking_merra2.csv'))\n",
    "timeseries_pv_optimal_clear_sky.to_csv(Path('intermediate_results/timeseries_pv_optimal_clear_sky.csv'))\n",
    "timeseries_pv_tracking_clear_sky.to_csv(Path('intermediate_results/timeseries_pv_tracking_clear_sky.csv'))"
   ]
  },
  {
   "cell_type": "markdown",
   "metadata": {},
   "source": [
    "## Transform PV output data into capacity factors "
   ]
  },
  {
   "cell_type": "code",
   "execution_count": 18,
   "metadata": {},
   "outputs": [],
   "source": [
    "def capacity_factors(file_with_df_pv_output):\n",
    "    cf_2 = pd.read_csv(file_with_df_pv_output, index_col=0, parse_dates=True)\n",
    "    cf_1 =  cf_2/cf_2.max().copy()\n",
    "    cf = cf_1.where(cf_2 > 0,0).copy()\n",
    "    return cf"
   ]
  },
  {
   "cell_type": "code",
   "execution_count": 19,
   "metadata": {},
   "outputs": [],
   "source": [
    "#calculate the capacity factors for the PV output data sets\n",
    "timeseries_capacity_factors_pv_optimal_era5l = capacity_factors(Path('intermediate_results/timeseries_pv_optimal_era5l.csv'))\n",
    "timeseries_capacity_factors_pv_optimal_merra2 = capacity_factors(Path('intermediate_results/timeseries_pv_optimal_merra2.csv'))\n",
    "timeseries_capacity_factors_pv_tracking_era5l = capacity_factors(Path('intermediate_results/timeseries_pv_tracking_era5l.csv'))\n",
    "timeseries_capacity_factors_pv_tracking_merra2 = capacity_factors(Path('intermediate_results/timeseries_pv_tracking_merra2.csv'))"
   ]
  },
  {
   "cell_type": "code",
   "execution_count": 20,
   "metadata": {},
   "outputs": [],
   "source": [
    "timeseries_capacity_factors_pv_optimal_clear_sky_rad = capacity_factors(Path('intermediate_results/clear_sky_ghi_all_00.csv'))\n",
    "timeseries_capacity_factors_pv_tracking_clear_sky_rad = capacity_factors(Path('intermediate_results/clear_sky_global_in_plane_all_00.csv'))"
   ]
  },
  {
   "cell_type": "code",
   "execution_count": 21,
   "metadata": {},
   "outputs": [],
   "source": [
    "#save the data frames of capacity factors to csv files\n",
    "timeseries_capacity_factors_pv_optimal_era5l.to_csv(Path('intermediate_results/timeseries_capacity_factors_pv_optimal_era5l.csv'))\n",
    "timeseries_capacity_factors_pv_optimal_merra2.to_csv(Path('intermediate_results/timeseries_capacity_factors_pv_optimal_merra2.csv'))\n",
    "timeseries_capacity_factors_pv_tracking_era5l.to_csv(Path('intermediate_results/timeseries_capacity_factors_pv_tracking_era5l.csv'))\n",
    "timeseries_capacity_factors_pv_tracking_merra2.to_csv(Path('intermediate_results/timeseries_capacity_factors_pv_tracking_merra2.csv'))\n",
    "timeseries_capacity_factors_pv_tracking_clear_sky_rad.to_csv(Path('intermediate_results/timeseries_capacity_factors_pv_tracking_clear_sky_rad.csv'))\n",
    "timeseries_capacity_factors_pv_optimal_clear_sky_rad.to_csv(Path('intermediate_results/timeseries_capacity_factors_pv_optimal_clear_sky_rad.csv'))"
   ]
  },
  {
   "cell_type": "markdown",
   "metadata": {},
   "source": [
    "## Deseasonalize the calculated data"
   ]
  },
  {
   "cell_type": "code",
   "execution_count": 22,
   "metadata": {},
   "outputs": [],
   "source": [
    "def deseason_pv_output(clear_sky,reanalysis):\n",
    "    '''this function extracts the clear sky PV output capacity factor\n",
    "    from the PV output capacity factor of other data source\n",
    "    the inputs are two data frames with the same dimentions and\n",
    "    temporal index'''\n",
    "    deseason_df = reanalysis - clear_sky\n",
    "    return deseason_df"
   ]
  },
  {
   "cell_type": "code",
   "execution_count": 24,
   "metadata": {},
   "outputs": [],
   "source": [
    "des_rad_optimal_era5l = deseason_pv_output(timeseries_capacity_factors_pv_optimal_clear_sky_rad,\n",
    "                                       timeseries_capacity_factors_pv_optimal_era5l)\n",
    "des_rad_tracking_era5l = deseason_pv_output(timeseries_capacity_factors_pv_tracking_clear_sky_rad,\n",
    "                                        timeseries_capacity_factors_pv_tracking_era5l)\n",
    "des_rad_optimal_merra2 = deseason_pv_output(timeseries_capacity_factors_pv_optimal_clear_sky_rad,\n",
    "                                        timeseries_capacity_factors_pv_optimal_merra2)\n",
    "des_rad_tracking_merra2 = deseason_pv_output(timeseries_capacity_factors_pv_tracking_clear_sky_rad,\n",
    "                                         timeseries_capacity_factors_pv_tracking_merra2)"
   ]
  },
  {
   "cell_type": "code",
   "execution_count": 25,
   "metadata": {},
   "outputs": [],
   "source": [
    "#save the deseazonalized data in files\n",
    "des_rad_optimal_era5l.to_csv(Path('intermediate_results/deseason_rad_optimal_era5l.csv'))\n",
    "des_rad_tracking_era5l.to_csv(Path('intermediate_results/deseason_rad_tracking_era5l.csv'))\n",
    "des_rad_optimal_merra2.to_csv(Path('intermediate_results/deseason_rad_optimal_merra2.csv'))\n",
    "des_rad_tracking_merra2.to_csv(Path('intermediate_results/deseason_rad_tracking_merra2.csv'))"
   ]
  },
  {
   "cell_type": "markdown",
   "metadata": {},
   "source": [
    "## Deseasonalize the measured data"
   ]
  },
  {
   "cell_type": "code",
   "execution_count": 26,
   "metadata": {},
   "outputs": [],
   "source": [
    "#import also the CF of the meassured data\n",
    "reference = pd.read_csv(Path('intermediate_results/time_series_PV_sen_chile_capacity_factors.csv'),\n",
    "                        index_col=0, parse_dates=True)\n",
    "reference.loc[:'2017-09','SOLAR HORMIGA'] = np.nan\n",
    "reference.loc[:'2017-11','SOLAR EL AGUILA I'] = np.nan"
   ]
  },
  {
   "cell_type": "code",
   "execution_count": 27,
   "metadata": {},
   "outputs": [],
   "source": [
    "#modify the calculated data sets time series to match chilean summer time\n",
    "#this cannot be performed automatically since the dailight summer time in chile changes from year to year\n",
    "def summer_time_chile(cf_file):\n",
    "    cf_utc = pd.read_csv(cf_file, index_col=0, parse_dates=True)\n",
    "    cf_ut_st_2014 = cf_utc[\"2014-04-27\":\"2014-09-07\"].shift(periods=-1).copy()\n",
    "    cf_ut_st_2016 = cf_utc[\"2016-05-15\":\"2016-08-14\"].shift(periods=-1).copy()\n",
    "    cf_ut_st_2017 = cf_utc[\"2017-05-14\":\"2017-08-14\"].shift(periods=-1).copy()\n",
    "    cf_ut_st_2018 = cf_utc[\"2018-05-13\":\"2018-08-12\"].shift(periods=-1).copy()\n",
    "    cf_utc_st = cf_utc.copy()\n",
    "    cf_utc_st.loc[\"2014-04-27\":\"2014-09-07\"] = cf_ut_st_2014\n",
    "    cf_utc_st.loc[\"2016-05-15\":\"2016-08-14\"] = cf_ut_st_2016 \n",
    "    cf_utc_st.loc[\"2017-05-14\":\"2017-08-14\"] = cf_ut_st_2017\n",
    "    cf_utc_st.loc[\"2018-05-13\":\"2018-08-12\"] = cf_ut_st_2018\n",
    "    return cf_utc_st"
   ]
  },
  {
   "cell_type": "code",
   "execution_count": 28,
   "metadata": {},
   "outputs": [],
   "source": [
    "st_clearsky_rad_capacity_factors_optimal = \\\n",
    "summer_time_chile(Path('intermediate_results/timeseries_capacity_factors_pv_optimal_clear_sky_rad.csv')).tz_localize('UTC')\n",
    "st_clearsky_rad_capacity_factors_tracking = \\\n",
    "summer_time_chile(Path('intermediate_results/timeseries_capacity_factors_pv_tracking_clear_sky_rad.csv')).tz_localize('UTC')"
   ]
  },
  {
   "cell_type": "code",
   "execution_count": 29,
   "metadata": {},
   "outputs": [],
   "source": [
    "des_rad_optimal_reference = deseason_pv_output(st_clearsky_rad_capacity_factors_optimal,\n",
    "                                       reference)[3:] \n",
    "des_rad_tracking_reference = deseason_pv_output(st_clearsky_rad_capacity_factors_tracking,\n",
    "                                       reference)[3:]"
   ]
  },
  {
   "cell_type": "code",
   "execution_count": 30,
   "metadata": {},
   "outputs": [],
   "source": [
    "des_rad_optimal_reference.to_csv(Path('intermediate_results/deseason_rad_optimal_reference.csv'))\n",
    "des_rad_tracking_reference.to_csv(Path('intermediate_results/deseason_rad_tracking_reference.csv'))"
   ]
  },
  {
   "cell_type": "markdown",
   "metadata": {},
   "source": [
    "## Aggregate Capacity factors of installations with and without tracking  "
   ]
  },
  {
   "cell_type": "code",
   "execution_count": 31,
   "metadata": {},
   "outputs": [],
   "source": [
    "#import classification of installations based on automatic procedure\n",
    "installations_selection = pd.read_csv(Path('intermediate_results/installation_classification.csv'),\n",
    "                                      index_col=1)  \n",
    "#create a colum to store the start of operation\n",
    "installations_selection['operation_start'] = '2018-12-31 22:00:00+00:00'"
   ]
  },
  {
   "cell_type": "code",
   "execution_count": 32,
   "metadata": {},
   "outputs": [],
   "source": [
    "#installations_selection"
   ]
  },
  {
   "cell_type": "code",
   "execution_count": 33,
   "metadata": {},
   "outputs": [],
   "source": [
    "def get_operation_start(installations_selection, reference):\n",
    "    '''get the operation start based on the first non nan for each installation that has been \n",
    "    clasified either into non-tracking or tracking systems'''\n",
    "    for installation in installations_selection.index[installations_selection.Type != 'erroneous']:\n",
    "        #print(reference[installation].first_valid_index())\n",
    "        installations_selection.loc[installation,\n",
    "                                    'operation_start'] = \\\n",
    "        reference[installation].first_valid_index()\n",
    "get_operation_start(installations_selection, reference)"
   ]
  },
  {
   "cell_type": "code",
   "execution_count": 34,
   "metadata": {},
   "outputs": [],
   "source": [
    "def get_cumulated_time_series(df_all_time_series, installations_to_agregate, installations_selection):\n",
    "    '''cumulate the hourly values in df_all_time_series for the set of installations\n",
    "    in installations_to_agregate which is a subset of installations_selection'''\n",
    "    operation_time_series = df_all_time_series[installations_to_agregate].copy()\n",
    "    for installation in operation_time_series.columns:\n",
    "        operation_time_series.loc[:installations_selection.loc[installation,'operation_start'],\n",
    "                                  installation] = np.nan\n",
    "    installations_amount = operation_time_series.columns.size\n",
    "    cumulated = (operation_time_series.sum(axis=1, min_count=1)/installations_amount).to_frame().rename(columns={0:\"CUMULATED\"})\n",
    "    #cumulated = cumulated.where(cumulated > 0.0, np.nan).copy()\n",
    "    return cumulated"
   ]
  },
  {
   "cell_type": "code",
   "execution_count": 35,
   "metadata": {},
   "outputs": [],
   "source": [
    "#calculate the cumulated values for the reference data\n",
    "cumulated_non_tracking_reference = \\\n",
    "get_cumulated_time_series(reference,\n",
    "                          installations_selection.index[installations_selection.Type == 'non-tracking'],\n",
    "                          installations_selection)\n",
    "cumulated_tracking_reference = \\\n",
    "get_cumulated_time_series(reference,\n",
    "                          installations_selection.index[installations_selection.Type == 'tracking'],\n",
    "                          installations_selection)"
   ]
  },
  {
   "cell_type": "code",
   "execution_count": 36,
   "metadata": {},
   "outputs": [],
   "source": [
    "#calculate the cumulated values for the era5l data\n",
    "cumulated_non_tracking_era5l = \\\n",
    "get_cumulated_time_series(timeseries_capacity_factors_pv_optimal_era5l,\n",
    "                          installations_selection.index[installations_selection.Type == 'non-tracking'],\n",
    "                          installations_selection)\n",
    "cumulated_tracking_era5l = \\\n",
    "get_cumulated_time_series(timeseries_capacity_factors_pv_tracking_era5l,\n",
    "                          installations_selection.index[installations_selection.Type == 'tracking'],\n",
    "                          installations_selection)"
   ]
  },
  {
   "cell_type": "code",
   "execution_count": 37,
   "metadata": {},
   "outputs": [],
   "source": [
    "#calculate the cumulated values for the merra2 data\n",
    "cumulated_non_tracking_merra2 = \\\n",
    "get_cumulated_time_series(timeseries_capacity_factors_pv_optimal_merra2,\n",
    "                          installations_selection.index[installations_selection.Type == 'non-tracking'],\n",
    "                          installations_selection)\n",
    "cumulated_tracking_merra2 = \\\n",
    "get_cumulated_time_series(timeseries_capacity_factors_pv_tracking_merra2,\n",
    "                          installations_selection.index[installations_selection.Type == 'tracking'],\n",
    "                          installations_selection)"
   ]
  },
  {
   "cell_type": "code",
   "execution_count": 38,
   "metadata": {},
   "outputs": [],
   "source": [
    "cumulated_non_tracking_reference.to_csv(Path('intermediate_results/cumulated_non_tracking_reference.csv'))\n",
    "cumulated_tracking_reference.to_csv(Path('intermediate_results/cumulated_tracking_reference.csv'))\n",
    "cumulated_non_tracking_era5l.to_csv(Path('intermediate_results/cumulated_non_tracking_era5l.csv'))\n",
    "cumulated_tracking_era5l.to_csv(Path('intermediate_results/cumulated_tracking_era5l.csv'))\n",
    "cumulated_non_tracking_merra2.to_csv(Path('intermediate_results/cumulated_non_tracking_merra2.csv'))\n",
    "cumulated_tracking_merra2.to_csv(Path('intermediate_results/cumulated_tracking_merra2.csv'))"
   ]
  },
  {
   "cell_type": "markdown",
   "metadata": {},
   "source": [
    "## Aggregate Capacity factors of deseasonalised data of installations with and without tracking  "
   ]
  },
  {
   "cell_type": "code",
   "execution_count": 39,
   "metadata": {},
   "outputs": [],
   "source": [
    "#calculate the cumulated values for the deseasonalised reference data\n",
    "cumulated_deseason_non_tracking_reference = \\\n",
    "get_cumulated_time_series(des_rad_optimal_reference,\n",
    "                          installations_selection.index[installations_selection.Type == 'non-tracking'],\n",
    "                          installations_selection)\n",
    "cumulated_deseason_tracking_reference = \\\n",
    "get_cumulated_time_series(des_rad_tracking_reference,\n",
    "                          installations_selection.index[installations_selection.Type == 'tracking'],\n",
    "                          installations_selection)"
   ]
  },
  {
   "cell_type": "code",
   "execution_count": 40,
   "metadata": {},
   "outputs": [],
   "source": [
    "#calculate the cumulated values for the deseasonalised era5l data\n",
    "cumulated_deseason_non_tracking_era5l = \\\n",
    "get_cumulated_time_series(des_rad_optimal_era5l,\n",
    "                          installations_selection.index[installations_selection.Type == 'non-tracking'],\n",
    "                          installations_selection)\n",
    "cumulated_deseason_tracking_era5l = \\\n",
    "get_cumulated_time_series(des_rad_tracking_era5l,\n",
    "                          installations_selection.index[installations_selection.Type == 'tracking'],\n",
    "                          installations_selection)"
   ]
  },
  {
   "cell_type": "code",
   "execution_count": 41,
   "metadata": {},
   "outputs": [],
   "source": [
    "#calculate the cumulated values for the deseasonalised merra2 data\n",
    "cumulated_deseason_non_tracking_merra2 = \\\n",
    "get_cumulated_time_series(des_rad_optimal_merra2,\n",
    "                          installations_selection.index[installations_selection.Type == 'non-tracking'],\n",
    "                          installations_selection)\n",
    "cumulated_deseason_tracking_merra2 = \\\n",
    "get_cumulated_time_series(des_rad_tracking_merra2,\n",
    "                          installations_selection.index[installations_selection.Type == 'tracking'],\n",
    "                          installations_selection)"
   ]
  },
  {
   "cell_type": "code",
   "execution_count": 42,
   "metadata": {},
   "outputs": [],
   "source": [
    "cumulated_deseason_non_tracking_reference.to_csv(Path('intermediate_results/cumulated_deseason_non_tracking_reference.csv'))\n",
    "cumulated_deseason_tracking_reference.to_csv(Path('intermediate_results/cumulated_deseason_tracking_reference.csv'))\n",
    "cumulated_deseason_non_tracking_era5l.to_csv(Path('intermediate_results/cumulated_deseason_non_tracking_era5l.csv'))\n",
    "cumulated_deseason_tracking_era5l.to_csv(Path('intermediate_results/cumulated_deseason_tracking_era5l.csv'))\n",
    "cumulated_deseason_non_tracking_merra2.to_csv(Path('intermediate_results/cumulated_deseason_non_tracking_merra2.csv'))\n",
    "cumulated_deseason_tracking_merra2.to_csv(Path('intermediate_results/cumulated_deseason_tracking_merra2.csv'))"
   ]
  }
 ],
 "metadata": {
  "kernelspec": {
   "display_name": "Python [conda env:miniconda3-py37]",
   "language": "python",
   "name": "conda-env-miniconda3-py37-py"
  },
  "language_info": {
   "codemirror_mode": {
    "name": "ipython",
    "version": 3
   },
   "file_extension": ".py",
   "mimetype": "text/x-python",
   "name": "python",
   "nbconvert_exporter": "python",
   "pygments_lexer": "ipython3",
   "version": "3.7.3"
  }
 },
 "nbformat": 4,
 "nbformat_minor": 2
}
