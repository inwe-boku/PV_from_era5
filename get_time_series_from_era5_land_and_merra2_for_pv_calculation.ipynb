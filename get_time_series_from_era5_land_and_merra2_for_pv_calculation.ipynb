{
 "cells": [
  {
   "cell_type": "markdown",
   "metadata": {},
   "source": [
    "                                                                            Luis Ramirez Camargo, June 2020"
   ]
  },
  {
   "cell_type": "markdown",
   "metadata": {},
   "source": [
    "# Retrieve solar radiation, temperature and wind speed data from ERA5-land and MERRA2 data for the locations of the PV installations in Chile"
   ]
  },
  {
   "cell_type": "markdown",
   "metadata": {},
   "source": [
    "This notebook generates CSV files with time series of solar radiation, temperature and wind speed for the location of all large PV installations in Chile from both the ERA5-land data and the MERRA2 global reanalysis. These files are necesary to speed up the calculations of PV power generation.\n",
    "See related notebooks: clean_measured_pv_data_installations_chile, pv_output_from_ERA5_land_and_merra2 and pv_validation_ERA5_land_MERRA2_rn"
   ]
  },
  {
   "cell_type": "code",
   "execution_count": 1,
   "metadata": {},
   "outputs": [],
   "source": [
    "import xarray as xr\n",
    "import pandas as pd\n",
    "from pandas.plotting import register_matplotlib_converters\n",
    "import numpy as np\n",
    "import geopandas as gpd\n",
    "import glob\n",
    "from tkinter import Tcl\n",
    "import gc\n",
    "import unidecode\n",
    "import datetime\n",
    "import scipy as sp"
   ]
  },
  {
   "cell_type": "markdown",
   "metadata": {},
   "source": [
    "## Import the installations and the reanalysis data sets"
   ]
  },
  {
   "cell_type": "code",
   "execution_count": 2,
   "metadata": {},
   "outputs": [],
   "source": [
    "#define the data set with the coordinates of the installations\n",
    "installations_chile = \"/home/lramirez/my-data/pv_generation_per_country/chile/solares_fd0779de_0870_4194_b962_83a842d8c316.shp\"\n",
    "#import the locations of PV plants in Chile\n",
    "#transfrom to wg84 coordinates \n",
    "pvs_chile = gpd.read_file(installations_chile)\n",
    "pvs_chile_4326 = pvs_chile.to_crs(epsg=4326)\n",
    "installations_list = pvs_chile_4326[\"NOMBRE\"]"
   ]
  },
  {
   "cell_type": "code",
   "execution_count": 3,
   "metadata": {},
   "outputs": [],
   "source": [
    "#create a dataframe with the coordinates in the format necesary for the era5 land data\n",
    "installations = pd.DataFrame({'latitude': pvs_chile_4326.geometry.y.values , \n",
    "                        'longitude': pvs_chile_4326.geometry.x.values + 360},\n",
    "                       index=installations_list)"
   ]
  },
  {
   "cell_type": "code",
   "execution_count": null,
   "metadata": {},
   "outputs": [],
   "source": [
    "#import the era5 land data\n",
    "input_era5l_data = \"/home/lramirez/my-data/ERA5_land_data/derived/era5l_*\"\n",
    "era5 = xr.open_mfdataset(input_era5l_data, combine='nested', concat_dim='time', chunks={'lon': 200, 'lat':200})"
   ]
  },
  {
   "cell_type": "code",
   "execution_count": 29,
   "metadata": {},
   "outputs": [],
   "source": [
    "#import the merra2 data\n",
    "basis_dir_merra = \"/data/scratch/merra2-chile/\"\n",
    "merra2_radiation = xr.open_mfdataset(str(basis_dir_merra + 'SWGDN/MERRA*'), combine='nested', concat_dim='time', chunks={'lon': 200, 'lat':200})\n",
    "merra2_temperature = xr.open_mfdataset(str(basis_dir_merra + 'T2M/MERRA*'), combine='nested', concat_dim='time', chunks={'lon': 200, 'lat':200})\n",
    "merra2_wind_u = xr.open_mfdataset(str(basis_dir_merra + 'U2M/MERRA*'), combine='nested', concat_dim='time', chunks={'lon': 200, 'lat':200})\n",
    "merra2_wind_v = xr.open_mfdataset(str(basis_dir_merra + 'V2M/MERRA*'), combine='nested', concat_dim='time', chunks={'lon': 200, 'lat':200})"
   ]
  },
  {
   "cell_type": "code",
   "execution_count": null,
   "metadata": {},
   "outputs": [],
   "source": [
    "#set the date range for extracting the data of all data sets\n",
    "date_range = pd.date_range(start='2014-01-01 00:00:00', end='2018-12-31 23:00:00', freq='H')"
   ]
  },
  {
   "cell_type": "markdown",
   "metadata": {},
   "source": [
    "## Get solar radiation data from ERA5 land for each location"
   ]
  },
  {
   "cell_type": "code",
   "execution_count": 8,
   "metadata": {},
   "outputs": [],
   "source": [
    "#create a data frame to store the era5 land radiation data for every plant\n",
    "timeseries_era5land_radiation = pd.DataFrame(columns=installations_list, index=pd.to_datetime(date_range))"
   ]
  },
  {
   "cell_type": "code",
   "execution_count": 9,
   "metadata": {},
   "outputs": [],
   "source": [
    "def get_era5l_radiation_in_w(lons,lats):\n",
    "    '''get the radiation values from ERA5 land data for a certain coordinate, \n",
    "    it transforms the values to Wh/m2'''\n",
    "    GHI_in_j = era5.var169.sel(lon=lons, lat=lats, method='nearest').diff(\"time\", 1, label=\"upper\")\n",
    "    ghi_era5l = (GHI_in_j.where(GHI_in_j > 0, 0))/3600\n",
    "    return ghi_era5l"
   ]
  },
  {
   "cell_type": "code",
   "execution_count": 60,
   "metadata": {},
   "outputs": [],
   "source": [
    "#runs the function for each coordinate and stores all values in a data frame\n",
    "for plant in installations.index[:]:\n",
    "    #print(str(installations.loc[plant,'longitude'])+\",\"+str(installations.loc[plant,'latitude'])+\"    \"+str(datetime.datetime.now()))\n",
    "    timeseries_era5land_radiation.loc[:-1,plant] = get_era5l_radiation_in_w(installations.loc[plant,'longitude'],installations.loc[plant,'latitude'])"
   ]
  },
  {
   "cell_type": "code",
   "execution_count": 11,
   "metadata": {},
   "outputs": [],
   "source": [
    "timeseries_era5land_radiation.to_csv('time_series_from_reanalysis_data_sets/eral5_radiation_all_installations.csv')"
   ]
  },
  {
   "cell_type": "markdown",
   "metadata": {},
   "source": [
    "## Get temperature data from ERA5 land for each location"
   ]
  },
  {
   "cell_type": "code",
   "execution_count": null,
   "metadata": {},
   "outputs": [],
   "source": [
    "timeseries_era5land_temperature = pd.DataFrame(columns=installations_list, index=pd.to_datetime(date_range))"
   ]
  },
  {
   "cell_type": "code",
   "execution_count": null,
   "metadata": {},
   "outputs": [],
   "source": [
    "def get_era5l_temperature_in_c(lons, lats):\n",
    "    '''get the temperature values from ERA5 land data for a certain coordinate, \n",
    "    it transforms the values to centigrades'''\n",
    "    temperature_pre = (era5.var167.sel(lon=lons,lat=lats, method='nearest'))-273.15\n",
    "    temperature = temperature_pre[1:].values\n",
    "    return temperature"
   ]
  },
  {
   "cell_type": "code",
   "execution_count": null,
   "metadata": {},
   "outputs": [],
   "source": [
    "#runs the function for each coordinate and stores all values in a data frame\n",
    "for plant in installations.index[:]:\n",
    "    timeseries_era5land_temperature.loc[:-1,plant] = get_era5l_temperature_in_c(installations.loc[plant,'longitude'],installations.loc[plant,'latitude'])"
   ]
  },
  {
   "cell_type": "code",
   "execution_count": null,
   "metadata": {},
   "outputs": [],
   "source": [
    "timeseries_era5land_temperature.to_csv('time_series_from_reanalysis_data_sets/eral5_temperature_all_installations.csv')"
   ]
  },
  {
   "cell_type": "markdown",
   "metadata": {},
   "source": [
    "## Get wind speed data from ERA5 land for each location"
   ]
  },
  {
   "cell_type": "code",
   "execution_count": 14,
   "metadata": {},
   "outputs": [],
   "source": [
    "#create a data frame to store the wind speed data for every plant\n",
    "timeseries_era5land_wind_speed = pd.DataFrame(columns=installations_list, index=pd.to_datetime(date_range))"
   ]
  },
  {
   "cell_type": "code",
   "execution_count": 13,
   "metadata": {},
   "outputs": [],
   "source": [
    "def get_era5l_wind_speed_in_m(lons, lats):\n",
    "    '''get the wind speed values from ERA5 land data for a certain coordinate, \n",
    "    it caculates the wind speed from the u and v components'''\n",
    "    wind_speed_pre2 = (np.sqrt(((era5.var165.sel(lon=lons,lat=lats, method='nearest'))**2)+\n",
    "             ((era5.var166.sel(lon=lons,lat=lats, method='nearest'))**2)))\n",
    "    wind_speed_pre1 = wind_speed_pre2 * ((np.log(1/0.25))/(np.log(10/0.25)))\n",
    "    wind_speed = wind_speed_pre1[1:].values\n",
    "    return wind_speed"
   ]
  },
  {
   "cell_type": "code",
   "execution_count": 61,
   "metadata": {},
   "outputs": [],
   "source": [
    "#runs the function for each coordinate and stores all values in a data frame\n",
    "for plant in installations.index[:]:\n",
    "    timeseries_era5land_wind_speed.loc[:-1,plant] = get_era5l_wind_speed_in_m(installations.loc[plant,'longitude'],installations.loc[plant,'latitude'])"
   ]
  },
  {
   "cell_type": "code",
   "execution_count": 18,
   "metadata": {},
   "outputs": [],
   "source": [
    "timeseries_era5land_wind_speed.to_csv('time_series_from_reanalysis_data_sets/eral5_wind_speed_all_installations.csv')"
   ]
  },
  {
   "cell_type": "markdown",
   "metadata": {},
   "source": [
    "## Get solar radiation data from MERRA2 for each location"
   ]
  },
  {
   "cell_type": "code",
   "execution_count": 22,
   "metadata": {},
   "outputs": [],
   "source": [
    "timeseries_merra2_radiation = pd.DataFrame(columns=installations_list, index=pd.to_datetime(date_range))"
   ]
  },
  {
   "cell_type": "code",
   "execution_count": 21,
   "metadata": {},
   "outputs": [],
   "source": [
    "def get_merra2_radiation_in_w(lons,lats):\n",
    "    '''get the radiation values from MERRA2 data for a certain coordinate, \n",
    "    values in Wh/m2'''\n",
    "    lons_wgs84 = lons - 360\n",
    "    GHI_in_w = merra2_radiation.SWGDN.sel(lon=lons_wgs84, lat=lats, method='nearest')\n",
    "    return GHI_in_w"
   ]
  },
  {
   "cell_type": "code",
   "execution_count": 62,
   "metadata": {},
   "outputs": [],
   "source": [
    "#runs the function for each coordinate and stores all values in a data frame\n",
    "for plant in installations.index[:]:\n",
    "    timeseries_merra2_radiation.loc[:,plant] = get_merra2_radiation_in_w(installations.loc[plant,'longitude'],installations.loc[plant,'latitude'])"
   ]
  },
  {
   "cell_type": "code",
   "execution_count": 26,
   "metadata": {},
   "outputs": [],
   "source": [
    "timeseries_merra2_radiation.to_csv('time_series_from_reanalysis_data_sets/merra2_radiation_all_installations.csv')"
   ]
  },
  {
   "cell_type": "markdown",
   "metadata": {},
   "source": [
    "## Get temperature data from MERRA2 for each location"
   ]
  },
  {
   "cell_type": "code",
   "execution_count": 35,
   "metadata": {},
   "outputs": [],
   "source": [
    "timeseries_merra2_temperature = pd.DataFrame(columns=installations_list, index=pd.to_datetime(date_range))"
   ]
  },
  {
   "cell_type": "code",
   "execution_count": 40,
   "metadata": {},
   "outputs": [],
   "source": [
    "def get_merra2_temperature_in_c(lons, lats):\n",
    "    '''get the temperature values from MERRA2 data for a certain coordinate, \n",
    "    it transforms the values to centigrades'''\n",
    "    lons_wgs84 = lons - 360\n",
    "    temperature = (merra2_temperature.T2M.sel(lon=lons,lat=lats, method='nearest'))-273.15\n",
    "    return temperature"
   ]
  },
  {
   "cell_type": "code",
   "execution_count": 63,
   "metadata": {},
   "outputs": [],
   "source": [
    "#runs the function for each coordinate and stores all values in a data frame\n",
    "for plant in installations.index[:]:\n",
    "    timeseries_merra2_temperature.loc[:,plant] = get_merra2_temperature_in_c(installations.loc[plant,'longitude'],installations.loc[plant,'latitude'])"
   ]
  },
  {
   "cell_type": "code",
   "execution_count": 59,
   "metadata": {},
   "outputs": [],
   "source": [
    "timeseries_merra2_temperature.to_csv('time_series_from_reanalysis_data_sets/merra2_temperature_all_installations.csv')"
   ]
  },
  {
   "cell_type": "markdown",
   "metadata": {},
   "source": [
    "## Get wind speed data from MERRA2 for each location"
   ]
  },
  {
   "cell_type": "code",
   "execution_count": 49,
   "metadata": {},
   "outputs": [],
   "source": [
    "#create a data frame to store the wind speed data for every plant\n",
    "timeseries_merra2_wind_speed = pd.DataFrame(columns=installations_list, index=pd.to_datetime(date_range))"
   ]
  },
  {
   "cell_type": "code",
   "execution_count": 51,
   "metadata": {},
   "outputs": [],
   "source": [
    "def get_merra2_wind_speed_in_m(lons, lats):\n",
    "    '''get the wind speed values from MERRA2 land data for a certain coordinate, \n",
    "    it caculates the wind speed from the u and v components'''\n",
    "    wind_speed_pre = (np.sqrt(((merra2_wind_u.U2M.sel(lon=lons,lat=lats, method='nearest'))**2)+\n",
    "             ((merra2_wind_v.V2M.sel(lon=lons,lat=lats, method='nearest'))**2)))\n",
    "    wind_speed = wind_speed_pre * ((np.log(1/0.25))/(np.log(2/0.25)))\n",
    "    return wind_speed"
   ]
  },
  {
   "cell_type": "code",
   "execution_count": 52,
   "metadata": {},
   "outputs": [],
   "source": [
    "#runs the function for each coordinate and stores all values in a data frame\n",
    "for plant in installations.index[:]:\n",
    "    timeseries_merra2_wind_speed.loc[:,plant] = get_merra2_wind_speed_in_m(installations.loc[plant,'longitude'],installations.loc[plant,'latitude'])"
   ]
  },
  {
   "cell_type": "code",
   "execution_count": 58,
   "metadata": {},
   "outputs": [],
   "source": [
    "timeseries_merra2_wind_speed.to_csv('time_series_from_reanalysis_data_sets/merra2_wind_speed_all_installations.csv')"
   ]
  }
 ],
 "metadata": {
  "kernelspec": {
   "display_name": "Python [conda env:miniconda3-py37]",
   "language": "python",
   "name": "conda-env-miniconda3-py37-py"
  },
  "language_info": {
   "codemirror_mode": {
    "name": "ipython",
    "version": 3
   },
   "file_extension": ".py",
   "mimetype": "text/x-python",
   "name": "python",
   "nbconvert_exporter": "python",
   "pygments_lexer": "ipython3",
   "version": "3.7.3"
  }
 },
 "nbformat": 4,
 "nbformat_minor": 2
}
